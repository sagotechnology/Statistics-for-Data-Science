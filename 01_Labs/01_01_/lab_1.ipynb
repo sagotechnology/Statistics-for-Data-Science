{
 "cells": [
  {
   "cell_type": "markdown",
   "metadata": {},
   "source": [
    "# Lab 1: Probability Theory\n",
    "## W203: Statistics for Data Science\n",
    "\n",
    "This is an individual lab; please do not discuss the questions outside of class / office hours.  You may bring questions into office hours and our instructors will provide some limited guidance.  However, questions marked with a '*' are in the no-hint zone.  We will not provide any information about these.\n",
    "\n",
    "You will have two weeks to complete this lab."
   ]
  },
  {
   "cell_type": "markdown",
   "metadata": {},
   "source": [
    "## 1. Meanwhile, at the Unfair Coin Factory...\n",
    "\n",
    "You are given a bucket that contains 1000 coins.  999 of these are fair coins, but one of them is a trick coin that always comes up heads.  You select one coin from this bucket at random.  Let T be the event that you select the trick coin.  This means that $P(T) = 0.001$.\n",
    "\n",
    "a. Suppose you flip the coin $k$ times.  Let $H_k$ be the event that the coin comes up heads all $k$ times.  If you see this occur, what is the conditional probability that you have the trick coin?  In other words, what is $P(T|H_k)$. (3 points)\n",
    "\n",
    "b. How many heads in a row would you need to observe in order for the conditional probability that you have the trick coin to be higher than 99.9%? (3 points)"
   ]
  },
  {
   "cell_type": "code",
   "execution_count": null,
   "metadata": {},
   "outputs": [],
   "source": []
  },
  {
   "cell_type": "markdown",
   "metadata": {},
   "source": [
    "## 2. Broken Rulers\n",
    "\n",
    "You have a ruler of length 4 and you choose a place to break it using a uniform probability distribution.  Let random variable X represent the length of the left piece of the ruler.  X is distributed uniformly in $[0,4]$.  You take the left piece of the ruler and once again choose a place to break it using a uniform probability distribution.  Let random variable Y be the length of the left piece from the second break.\n",
    "\n",
    "a. Draw a picture of the region in the X-Y plane for which the joint density of X and Y is non-zero. (3 points)\n",
    "\n",
    "b. Find the conditional expectation of $Y$ given $X$, $E(Y|X)$. (3 points)\n",
    "\n",
    "c. Find the unconditional expectation of $Y$. (3 points) \n",
    "\n",
    "d.* Give a complete expression for the conditional distribution of $X$, conditional on $Y$. (3 points)\n",
    "\n",
    "e.* Compute $cov(X,Y)$. (3 points)"
   ]
  },
  {
   "cell_type": "markdown",
   "metadata": {},
   "source": [
    "## 3. Probabilities for Patients\n",
    "\n",
    "You might be wondering how probability theory is applied to real world problems.  One example has to do with predicting patient outcomes based on their current state.  As you can see, there are big prizes for this sort of analysis (https://www.cmschallenge.ai/).  \n",
    "\n",
    "Suppose a set of patients is enrolled in yearly checkups: checkup 1, checkup 2, and so on.   For checkup $i$, let $W_i$ be the event that the patient is well, $I_i$ be the event that the patient is ill, and $D_i$ be the event that the patient is dead.  Transitions can be modeled as a set of conditional probabilities.  For example the probability that a patient that is well in checkup $i$ is well at the next checkup is, $P(W_{i+1}|W_i)$.\n",
    "\n",
    "In the basic model, individuals can only stay in their current state or get sicker, so $P(W_{i+1}|I_i) = P(W_{i+1}|D_i) = P(I_{i+1}|D_i) = 0$. Dead is an abosorbing state, meaning $P(D_{i+1}|D_I)=1$.\n",
    "\n",
    "You can see this model drawn out in this paper, which propsed this as a method of clinical decision making (Med Decis Making 3:419-458, 1983). The notation is a little different for example $P(W_{i+1}|W_i)$ is written as $P_{ww}$.\n",
    "\n",
    "![alt text](Markov_diagnosis.png \"Title\")"
   ]
  },
  {
   "cell_type": "markdown",
   "metadata": {},
   "source": [
    "A particular patient is *Well* at checkup 1 ($W_1$ occurs), but given their age and risk factors, $P(W_{i+1}|W_i) = 0.2$ for all $i$.\n",
    "\n",
    "Let $L$ be the random variable representing the number of checkup in which the patient is well (a well checkup).  For example, here is a sample trajectory for a patient:\n",
    "\n",
    "$$W_1, W_2, W_3, I_4, D_5$$\n",
    "\n",
    "This patient was well at checkup 1, 2, and 3, then ill at checkup 4, and dead at checkup 5.  For this patient, $L = 3$.\n",
    "\n",
    "a. Write a complete expression for the probability mass function of $L$. (3 points)"
   ]
  },
  {
   "cell_type": "code",
   "execution_count": null,
   "metadata": {},
   "outputs": [],
   "source": []
  },
  {
   "cell_type": "markdown",
   "metadata": {},
   "source": [
    "b. Compute the expectation of $L$.  You may use one or more of these well-known infinite sums in your solution:\n",
    "\n",
    "\\begin{align}\n",
    "\\sum _{k=1}^{\\infty }z^{k-1}&={\\frac {1}{1-z}}\\\\\n",
    "\\sum _{k=1}^{\\infty }kz^{k-1}&={\\frac {1}{(1-z)^{2}}}\\\\\n",
    "\\sum _{k=1}^{\\infty }k^{2}z^{k-1}&={\\frac {1+z}{(1-z)^{3}}}\n",
    "\\end{align}\n",
    "\n",
    "(3 points)"
   ]
  },
  {
   "cell_type": "code",
   "execution_count": null,
   "metadata": {},
   "outputs": [],
   "source": []
  },
  {
   "cell_type": "markdown",
   "metadata": {},
   "source": [
    "c. Write an R function that simulates the trajectory of a single patient and returns the number of checkups at which the patient is well. (3 points)"
   ]
  },
  {
   "cell_type": "code",
   "execution_count": null,
   "metadata": {},
   "outputs": [],
   "source": []
  },
  {
   "cell_type": "markdown",
   "metadata": {},
   "source": [
    "d. Use R to simulate 1000 patient trajectories and find the sample mean of the number of well checkups. (3 points)"
   ]
  },
  {
   "cell_type": "code",
   "execution_count": null,
   "metadata": {},
   "outputs": [],
   "source": []
  },
  {
   "cell_type": "markdown",
   "metadata": {},
   "source": [
    "e. The use of a walker increases the likelihood of staying well so that $P(W_{i+1}|W_i) = 0.5$ for all $i$.   How many checkups will a walker add to the expected number of well checkups? (3 points)"
   ]
  },
  {
   "cell_type": "code",
   "execution_count": null,
   "metadata": {},
   "outputs": [],
   "source": []
  },
  {
   "cell_type": "markdown",
   "metadata": {},
   "source": [
    "When we match these models to clinical data we often have to account for varying time windows based on available data.  Consider the following scenarios:\n",
    "\n",
    "f. In study number 1, 100 patients were all well at checkup 1, and the probability of being well at checkup 3 is estimated to be 80%.  Assuming the transition probabilities are constant, what is $P(W_{i+1}|W_i)$? (3 points)\n"
   ]
  },
  {
   "cell_type": "code",
   "execution_count": null,
   "metadata": {},
   "outputs": [],
   "source": []
  },
  {
   "cell_type": "markdown",
   "metadata": {},
   "source": [
    "\n",
    "g. In study number 2, 100 patients were all well at checkup 1, and the probability of being well at checkup 7 is estimated at 40%.  Assuming the transition probabilities are constant, what is $P(W_{i+1}|W_i)$? (3 points)\n"
   ]
  },
  {
   "cell_type": "code",
   "execution_count": null,
   "metadata": {},
   "outputs": [],
   "source": []
  },
  {
   "cell_type": "markdown",
   "metadata": {},
   "source": [
    "\n",
    "h. Notice that both study 1 and study 2 have an average of 10 patients becoming unwell per year.  If you got different transition probabilities for f. versus for g., explain why. (3 points)"
   ]
  },
  {
   "cell_type": "code",
   "execution_count": null,
   "metadata": {},
   "outputs": [],
   "source": []
  },
  {
   "cell_type": "markdown",
   "metadata": {},
   "source": [
    "i.* Now suppose $P(W_{i+1}|W_i) = 0.2$, $P(I_{i+1}|W_i) = 0.8$, $P(D_{i+1}|W_i) = 0$,   $P(I_{i+1}|I_i) = 0.2$, $P(D_{i+1}|I_i) = 0.8$ for all $i$.  Compute the expected number of checkups in which a patient is alive (either well or ill). (3 points)"
   ]
  },
  {
   "cell_type": "code",
   "execution_count": null,
   "metadata": {},
   "outputs": [],
   "source": []
  },
  {
   "cell_type": "markdown",
   "metadata": {},
   "source": [
    "## 4.  Wise Investments \n",
    "\n",
    "You invest in two startup companies focused on data science, Company 1 and Company 2.  Let $U_i$ be the event that Company $i$ reaches unicorn status (valued at \\\\$1 billion).  Thanks to your growing expertise in this area, $P(U_1) = P(U_2) = 3/4$.  $U_1$ and $U_2$ may or may not be independent of each other.  Let random variable $X$ be the total number of companies that reach unicorn status.  X can take on the values 0, 1, and 2. \n",
    "\n",
    "a. Compute $E(X)$. (3 points)\n",
    "\n",
    "b. Compute the maximum value for $var(X)$. (3 points)\n",
    "\n",
    "c.* Compute the minimum value for $var(X)$. (3 points)\n",
    "\n",
    "Now suppose there are four companies, Company 1 through Company 4.  Again, let $U_i$ be the event that Company $i$ reaches unicorn status.  $P(U_i) = 3/4$ for all $i$.  Once again, let random variable $X$ be the total number of companies that reach unicorn status.\n",
    "\n",
    "d.* Compute the minimum and maximum values for $var(X)$. (3 points)"
   ]
  },
  {
   "cell_type": "code",
   "execution_count": null,
   "metadata": {},
   "outputs": [],
   "source": []
  }
 ],
 "metadata": {
  "kernelspec": {
   "display_name": "Python 3",
   "language": "python",
   "name": "python3"
  },
  "language_info": {
   "codemirror_mode": {
    "name": "ipython",
    "version": 3
   },
   "file_extension": ".py",
   "mimetype": "text/x-python",
   "name": "python",
   "nbconvert_exporter": "python",
   "pygments_lexer": "ipython3",
   "version": "3.7.4"
  }
 },
 "nbformat": 4,
 "nbformat_minor": 4
}
